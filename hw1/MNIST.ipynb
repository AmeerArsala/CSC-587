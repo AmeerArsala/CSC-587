{
 "cells": [
  {
   "cell_type": "code",
   "execution_count": 2,
   "id": "868428a6-b4b7-4e26-8c11-0b8cf1dacb25",
   "metadata": {
    "execution": {
     "iopub.execute_input": "2024-01-27T09:19:48.920499Z",
     "iopub.status.busy": "2024-01-27T09:19:48.919425Z",
     "iopub.status.idle": "2024-01-27T09:19:48.925090Z",
     "shell.execute_reply": "2024-01-27T09:19:48.924002Z",
     "shell.execute_reply.started": "2024-01-27T09:19:48.920454Z"
    }
   },
   "outputs": [],
   "source": [
    "import numpy as np\n",
    "import tensorflow as tf\n",
    "from tensorflow import keras\n",
    "\n",
    "import scipy\n",
    "\n",
    "# data viz\n",
    "import matplotlib.pyplot as plt"
   ]
  },
  {
   "cell_type": "code",
   "execution_count": 3,
   "id": "606d53fe-f4e8-4506-b78a-1e23811835fd",
   "metadata": {
    "execution": {
     "iopub.execute_input": "2024-01-27T09:20:07.967947Z",
     "iopub.status.busy": "2024-01-27T09:20:07.967576Z",
     "iopub.status.idle": "2024-01-27T09:20:08.487256Z",
     "shell.execute_reply": "2024-01-27T09:20:08.486466Z",
     "shell.execute_reply.started": "2024-01-27T09:20:07.967918Z"
    }
   },
   "outputs": [
    {
     "name": "stdout",
     "output_type": "stream",
     "text": [
      "Downloading data from https://storage.googleapis.com/tensorflow/tf-keras-datasets/mnist.npz\n",
      "11490434/11490434 [==============================] - 0s 0us/step\n"
     ]
    },
    {
     "data": {
      "text/plain": [
       "((array([[[0, 0, 0, ..., 0, 0, 0],\n",
       "          [0, 0, 0, ..., 0, 0, 0],\n",
       "          [0, 0, 0, ..., 0, 0, 0],\n",
       "          ...,\n",
       "          [0, 0, 0, ..., 0, 0, 0],\n",
       "          [0, 0, 0, ..., 0, 0, 0],\n",
       "          [0, 0, 0, ..., 0, 0, 0]],\n",
       "  \n",
       "         [[0, 0, 0, ..., 0, 0, 0],\n",
       "          [0, 0, 0, ..., 0, 0, 0],\n",
       "          [0, 0, 0, ..., 0, 0, 0],\n",
       "          ...,\n",
       "          [0, 0, 0, ..., 0, 0, 0],\n",
       "          [0, 0, 0, ..., 0, 0, 0],\n",
       "          [0, 0, 0, ..., 0, 0, 0]],\n",
       "  \n",
       "         [[0, 0, 0, ..., 0, 0, 0],\n",
       "          [0, 0, 0, ..., 0, 0, 0],\n",
       "          [0, 0, 0, ..., 0, 0, 0],\n",
       "          ...,\n",
       "          [0, 0, 0, ..., 0, 0, 0],\n",
       "          [0, 0, 0, ..., 0, 0, 0],\n",
       "          [0, 0, 0, ..., 0, 0, 0]],\n",
       "  \n",
       "         ...,\n",
       "  \n",
       "         [[0, 0, 0, ..., 0, 0, 0],\n",
       "          [0, 0, 0, ..., 0, 0, 0],\n",
       "          [0, 0, 0, ..., 0, 0, 0],\n",
       "          ...,\n",
       "          [0, 0, 0, ..., 0, 0, 0],\n",
       "          [0, 0, 0, ..., 0, 0, 0],\n",
       "          [0, 0, 0, ..., 0, 0, 0]],\n",
       "  \n",
       "         [[0, 0, 0, ..., 0, 0, 0],\n",
       "          [0, 0, 0, ..., 0, 0, 0],\n",
       "          [0, 0, 0, ..., 0, 0, 0],\n",
       "          ...,\n",
       "          [0, 0, 0, ..., 0, 0, 0],\n",
       "          [0, 0, 0, ..., 0, 0, 0],\n",
       "          [0, 0, 0, ..., 0, 0, 0]],\n",
       "  \n",
       "         [[0, 0, 0, ..., 0, 0, 0],\n",
       "          [0, 0, 0, ..., 0, 0, 0],\n",
       "          [0, 0, 0, ..., 0, 0, 0],\n",
       "          ...,\n",
       "          [0, 0, 0, ..., 0, 0, 0],\n",
       "          [0, 0, 0, ..., 0, 0, 0],\n",
       "          [0, 0, 0, ..., 0, 0, 0]]], dtype=uint8),\n",
       "  array([5, 0, 4, ..., 5, 6, 8], dtype=uint8)),\n",
       " (array([[[0, 0, 0, ..., 0, 0, 0],\n",
       "          [0, 0, 0, ..., 0, 0, 0],\n",
       "          [0, 0, 0, ..., 0, 0, 0],\n",
       "          ...,\n",
       "          [0, 0, 0, ..., 0, 0, 0],\n",
       "          [0, 0, 0, ..., 0, 0, 0],\n",
       "          [0, 0, 0, ..., 0, 0, 0]],\n",
       "  \n",
       "         [[0, 0, 0, ..., 0, 0, 0],\n",
       "          [0, 0, 0, ..., 0, 0, 0],\n",
       "          [0, 0, 0, ..., 0, 0, 0],\n",
       "          ...,\n",
       "          [0, 0, 0, ..., 0, 0, 0],\n",
       "          [0, 0, 0, ..., 0, 0, 0],\n",
       "          [0, 0, 0, ..., 0, 0, 0]],\n",
       "  \n",
       "         [[0, 0, 0, ..., 0, 0, 0],\n",
       "          [0, 0, 0, ..., 0, 0, 0],\n",
       "          [0, 0, 0, ..., 0, 0, 0],\n",
       "          ...,\n",
       "          [0, 0, 0, ..., 0, 0, 0],\n",
       "          [0, 0, 0, ..., 0, 0, 0],\n",
       "          [0, 0, 0, ..., 0, 0, 0]],\n",
       "  \n",
       "         ...,\n",
       "  \n",
       "         [[0, 0, 0, ..., 0, 0, 0],\n",
       "          [0, 0, 0, ..., 0, 0, 0],\n",
       "          [0, 0, 0, ..., 0, 0, 0],\n",
       "          ...,\n",
       "          [0, 0, 0, ..., 0, 0, 0],\n",
       "          [0, 0, 0, ..., 0, 0, 0],\n",
       "          [0, 0, 0, ..., 0, 0, 0]],\n",
       "  \n",
       "         [[0, 0, 0, ..., 0, 0, 0],\n",
       "          [0, 0, 0, ..., 0, 0, 0],\n",
       "          [0, 0, 0, ..., 0, 0, 0],\n",
       "          ...,\n",
       "          [0, 0, 0, ..., 0, 0, 0],\n",
       "          [0, 0, 0, ..., 0, 0, 0],\n",
       "          [0, 0, 0, ..., 0, 0, 0]],\n",
       "  \n",
       "         [[0, 0, 0, ..., 0, 0, 0],\n",
       "          [0, 0, 0, ..., 0, 0, 0],\n",
       "          [0, 0, 0, ..., 0, 0, 0],\n",
       "          ...,\n",
       "          [0, 0, 0, ..., 0, 0, 0],\n",
       "          [0, 0, 0, ..., 0, 0, 0],\n",
       "          [0, 0, 0, ..., 0, 0, 0]]], dtype=uint8),\n",
       "  array([7, 2, 1, ..., 4, 5, 6], dtype=uint8)))"
      ]
     },
     "execution_count": 3,
     "metadata": {},
     "output_type": "execute_result"
    }
   ],
   "source": [
    "# Load MNIST\n",
    "data = keras.datasets.mnist.load_data(path=\"mnist.npz\")\n",
    "data"
   ]
  },
  {
   "cell_type": "code",
   "execution_count": 4,
   "id": "0d3c8a1b-6466-431b-9533-e754e98a12c3",
   "metadata": {
    "execution": {
     "iopub.execute_input": "2024-01-27T09:20:11.998580Z",
     "iopub.status.busy": "2024-01-27T09:20:11.998142Z",
     "iopub.status.idle": "2024-01-27T09:20:12.004123Z",
     "shell.execute_reply": "2024-01-27T09:20:12.003260Z",
     "shell.execute_reply.started": "2024-01-27T09:20:11.998553Z"
    }
   },
   "outputs": [
    {
     "data": {
      "text/plain": [
       "numpy.ndarray"
      ]
     },
     "execution_count": 4,
     "metadata": {},
     "output_type": "execute_result"
    }
   ],
   "source": [
    "(X_train, y_train), (X_ideal, y_ideal) = data\n",
    "type(X_train)"
   ]
  },
  {
   "cell_type": "code",
   "execution_count": 5,
   "id": "e5a1a47c-bb1f-4673-96a1-e18ded549430",
   "metadata": {
    "execution": {
     "iopub.execute_input": "2024-01-27T09:20:20.309189Z",
     "iopub.status.busy": "2024-01-27T09:20:20.308258Z",
     "iopub.status.idle": "2024-01-27T09:20:20.495228Z",
     "shell.execute_reply": "2024-01-27T09:20:20.494272Z",
     "shell.execute_reply.started": "2024-01-27T09:20:20.309159Z"
    }
   },
   "outputs": [
    {
     "data": {
      "text/plain": [
       "<matplotlib.image.AxesImage at 0x7ff6a0cf68f0>"
      ]
     },
     "execution_count": 5,
     "metadata": {},
     "output_type": "execute_result"
    },
    {
     "data": {
      "image/png": "[encoded data removed]",
      "text/plain": [
       "<Figure size 640x480 with 1 Axes>"
      ]
     },
     "metadata": {},
     "output_type": "display_data"
    }
   ],
   "source": [
    "plt.imshow(X_train[0], cmap=\"gray\")"
   ]
  },
  {
   "cell_type": "code",
   "execution_count": 6,
   "id": "d03c8742-c493-4bf3-8128-c0fd833137ff",
   "metadata": {
    "execution": {
     "iopub.execute_input": "2024-01-27T09:20:40.518963Z",
     "iopub.status.busy": "2024-01-27T09:20:40.518554Z",
     "iopub.status.idle": "2024-01-27T09:20:40.525126Z",
     "shell.execute_reply": "2024-01-27T09:20:40.524322Z",
     "shell.execute_reply.started": "2024-01-27T09:20:40.518933Z"
    }
   },
   "outputs": [
    {
     "name": "stdout",
     "output_type": "stream",
     "text": [
      "(28, 28)\n"
     ]
    },
    {
     "data": {
      "text/plain": [
       "5"
      ]
     },
     "execution_count": 6,
     "metadata": {},
     "output_type": "execute_result"
    }
   ],
   "source": [
    "print(X_train[0].shape)\n",
    "y_train[0]"
   ]
  },
  {
   "cell_type": "code",
   "execution_count": 7,
   "id": "06786f11-afd4-44e3-8852-b6ed4c9d1498",
   "metadata": {
    "execution": {
     "iopub.execute_input": "2024-01-27T09:21:01.462839Z",
     "iopub.status.busy": "2024-01-27T09:21:01.462408Z",
     "iopub.status.idle": "2024-01-27T09:21:01.468093Z",
     "shell.execute_reply": "2024-01-27T09:21:01.467015Z",
     "shell.execute_reply.started": "2024-01-27T09:21:01.462810Z"
    }
   },
   "outputs": [
    {
     "name": "stdout",
     "output_type": "stream",
     "text": [
      "60000\n",
      "10000\n"
     ]
    }
   ],
   "source": [
    "print(len(y_train))\n",
    "print(len(y_ideal))"
   ]
  },
  {
   "cell_type": "code",
   "execution_count": 8,
   "id": "389f794a-d402-48d3-a425-69ab157972f0",
   "metadata": {
    "execution": {
     "iopub.execute_input": "2024-01-27T09:21:09.605629Z",
     "iopub.status.busy": "2024-01-27T09:21:09.605245Z",
     "iopub.status.idle": "2024-01-27T09:21:09.729421Z",
     "shell.execute_reply": "2024-01-27T09:21:09.728473Z",
     "shell.execute_reply.started": "2024-01-27T09:21:09.605601Z"
    }
   },
   "outputs": [],
   "source": [
    "# scale the images in the [0, 1] range\n",
    "X_train = X_train.astype(\"float32\") / 255.0\n",
    "X_ideal = X_ideal.astype(\"float32\") / 255.0"
   ]
  },
  {
   "cell_type": "code",
   "execution_count": 9,
   "id": "122bc7bb-4ce9-46dc-9809-c144d608e43f",
   "metadata": {
    "execution": {
     "iopub.execute_input": "2024-01-27T09:21:32.808064Z",
     "iopub.status.busy": "2024-01-27T09:21:32.807254Z",
     "iopub.status.idle": "2024-01-27T10:20:24.190966Z",
     "shell.execute_reply": "2024-01-27T10:20:24.190045Z",
     "shell.execute_reply.started": "2024-01-27T09:21:32.808036Z"
    }
   },
   "outputs": [
    {
     "name": "stdout",
     "output_type": "stream",
     "text": [
      "Epoch 1/200\n",
      "540/540 [==============================] - 18s 33ms/step - loss: 1.9620 - val_loss: 1.3983\n",
      "Epoch 2/200\n",
      "540/540 [==============================] - 18s 33ms/step - loss: 1.1646 - val_loss: 1.1083\n",
      "Epoch 3/200\n",
      "540/540 [==============================] - 16s 30ms/step - loss: 0.8738 - val_loss: 0.7078\n",
      "Epoch 4/200\n",
      "540/540 [==============================] - 18s 33ms/step - loss: 0.7047 - val_loss: 0.5820\n",
      "Epoch 5/200\n",
      "540/540 [==============================] - 17s 31ms/step - loss: 0.5985 - val_loss: 0.5216\n",
      "Epoch 6/200\n",
      "540/540 [==============================] - 18s 33ms/step - loss: 0.5229 - val_loss: 0.4355\n",
      "Epoch 7/200\n",
      "540/540 [==============================] - 18s 33ms/step - loss: 0.4693 - val_loss: 0.4134\n",
      "Epoch 8/200\n",
      "540/540 [==============================] - 17s 31ms/step - loss: 0.4299 - val_loss: 0.3578\n",
      "Epoch 9/200\n",
      "540/540 [==============================] - 18s 33ms/step - loss: 0.3917 - val_loss: 0.3413\n",
      "Epoch 10/200\n",
      "540/540 [==============================] - 18s 33ms/step - loss: 0.3608 - val_loss: 0.3062\n",
      "Epoch 11/200\n",
      "540/540 [==============================] - 18s 33ms/step - loss: 0.3329 - val_loss: 0.4704\n",
      "Epoch 12/200\n",
      "540/540 [==============================] - 17s 32ms/step - loss: 0.3044 - val_loss: 0.2594\n",
      "Epoch 13/200\n",
      "540/540 [==============================] - 18s 33ms/step - loss: 0.2845 - val_loss: 0.2469\n",
      "Epoch 14/200\n",
      "540/540 [==============================] - 17s 32ms/step - loss: 0.2649 - val_loss: 0.2381\n",
      "Epoch 15/200\n",
      "540/540 [==============================] - 17s 32ms/step - loss: 0.2478 - val_loss: 0.2444\n",
      "Epoch 16/200\n",
      "540/540 [==============================] - 18s 33ms/step - loss: 0.2314 - val_loss: 0.2069\n",
      "Epoch 17/200\n",
      "540/540 [==============================] - 18s 33ms/step - loss: 0.2189 - val_loss: 0.1986\n",
      "Epoch 18/200\n",
      "540/540 [==============================] - 17s 32ms/step - loss: 0.2058 - val_loss: 0.1971\n",
      "Epoch 19/200\n",
      "540/540 [==============================] - 18s 34ms/step - loss: 0.1956 - val_loss: 0.1940\n",
      "Epoch 20/200\n",
      "540/540 [==============================] - 17s 31ms/step - loss: 0.1876 - val_loss: 0.1887\n",
      "Epoch 21/200\n",
      "540/540 [==============================] - 18s 33ms/step - loss: 0.1784 - val_loss: 0.1853\n",
      "Epoch 22/200\n",
      "540/540 [==============================] - 17s 31ms/step - loss: 0.1718 - val_loss: 0.1753\n",
      "Epoch 23/200\n",
      "540/540 [==============================] - 17s 31ms/step - loss: 0.1636 - val_loss: 0.1854\n",
      "Epoch 24/200\n",
      "540/540 [==============================] - 18s 33ms/step - loss: 0.1570 - val_loss: 0.1768\n",
      "Epoch 25/200\n",
      "540/540 [==============================] - 18s 32ms/step - loss: 0.1510 - val_loss: 0.1569\n",
      "Epoch 26/200\n",
      "540/540 [==============================] - 18s 33ms/step - loss: 0.1456 - val_loss: 0.1721\n",
      "Epoch 27/200\n",
      "540/540 [==============================] - 18s 33ms/step - loss: 0.1401 - val_loss: 0.1594\n",
      "Epoch 28/200\n",
      "540/540 [==============================] - 18s 34ms/step - loss: 0.1348 - val_loss: 0.1556\n",
      "Epoch 29/200\n",
      "540/540 [==============================] - 17s 32ms/step - loss: 0.1311 - val_loss: 0.1747\n",
      "Epoch 30/200\n",
      "540/540 [==============================] - 18s 32ms/step - loss: 0.1267 - val_loss: 0.1546\n",
      "Epoch 31/200\n",
      "540/540 [==============================] - 18s 33ms/step - loss: 0.1222 - val_loss: 0.1489\n",
      "Epoch 32/200\n",
      "540/540 [==============================] - 19s 34ms/step - loss: 0.1181 - val_loss: 0.1458\n",
      "Epoch 33/200\n",
      "540/540 [==============================] - 18s 33ms/step - loss: 0.1166 - val_loss: 0.1584\n",
      "Epoch 34/200\n",
      "540/540 [==============================] - 18s 33ms/step - loss: 0.1119 - val_loss: 0.1514\n",
      "Epoch 35/200\n",
      "540/540 [==============================] - 18s 33ms/step - loss: 0.1082 - val_loss: 0.1775\n",
      "Epoch 36/200\n",
      "540/540 [==============================] - 18s 34ms/step - loss: 0.1050 - val_loss: 0.1485\n",
      "Epoch 37/200\n",
      "540/540 [==============================] - 18s 33ms/step - loss: 0.1026 - val_loss: 0.1436\n",
      "Epoch 38/200\n",
      "540/540 [==============================] - 17s 31ms/step - loss: 0.0999 - val_loss: 0.1346\n",
      "Epoch 39/200\n",
      "540/540 [==============================] - 18s 33ms/step - loss: 0.0953 - val_loss: 0.1426\n",
      "Epoch 40/200\n",
      "540/540 [==============================] - 18s 33ms/step - loss: 0.0929 - val_loss: 0.1314\n",
      "Epoch 41/200\n",
      "540/540 [==============================] - 18s 33ms/step - loss: 0.0925 - val_loss: 0.1364\n",
      "Epoch 42/200\n",
      "540/540 [==============================] - 18s 33ms/step - loss: 0.0893 - val_loss: 0.1384\n",
      "Epoch 43/200\n",
      "540/540 [==============================] - 18s 33ms/step - loss: 0.0861 - val_loss: 0.1329\n",
      "Epoch 44/200\n",
      "540/540 [==============================] - 18s 33ms/step - loss: 0.0846 - val_loss: 0.1378\n",
      "Epoch 45/200\n",
      "540/540 [==============================] - 17s 32ms/step - loss: 0.0811 - val_loss: 0.1387\n",
      "Epoch 46/200\n",
      "540/540 [==============================] - 18s 33ms/step - loss: 0.0793 - val_loss: 0.1469\n",
      "Epoch 47/200\n",
      "540/540 [==============================] - 18s 34ms/step - loss: 0.0782 - val_loss: 0.1291\n",
      "Epoch 48/200\n",
      "540/540 [==============================] - 17s 32ms/step - loss: 0.0764 - val_loss: 0.1373\n",
      "Epoch 49/200\n",
      "540/540 [==============================] - 18s 33ms/step - loss: 0.0730 - val_loss: 0.1327\n",
      "Epoch 50/200\n",
      "540/540 [==============================] - 17s 32ms/step - loss: 0.0726 - val_loss: 0.1396\n",
      "Epoch 51/200\n",
      "540/540 [==============================] - 18s 33ms/step - loss: 0.0687 - val_loss: 0.1371\n",
      "Epoch 52/200\n",
      "540/540 [==============================] - 17s 32ms/step - loss: 0.0688 - val_loss: 0.1253\n",
      "Epoch 53/200\n",
      "540/540 [==============================] - 18s 34ms/step - loss: 0.0672 - val_loss: 0.1331\n",
      "Epoch 54/200\n",
      "540/540 [==============================] - 18s 33ms/step - loss: 0.0658 - val_loss: 0.1419\n",
      "Epoch 55/200\n",
      "540/540 [==============================] - 18s 34ms/step - loss: 0.0637 - val_loss: 0.1291\n",
      "Epoch 56/200\n",
      "540/540 [==============================] - 17s 31ms/step - loss: 0.0615 - val_loss: 0.1337\n",
      "Epoch 57/200\n",
      "540/540 [==============================] - 18s 34ms/step - loss: 0.0603 - val_loss: 0.1535\n",
      "Epoch 58/200\n",
      "540/540 [==============================] - 18s 33ms/step - loss: 0.0592 - val_loss: 0.1279\n",
      "Epoch 59/200\n",
      "540/540 [==============================] - 18s 33ms/step - loss: 0.0574 - val_loss: 0.1466\n",
      "Epoch 60/200\n",
      "540/540 [==============================] - 17s 31ms/step - loss: 0.0568 - val_loss: 0.1338\n",
      "Epoch 61/200\n",
      "540/540 [==============================] - 17s 31ms/step - loss: 0.0537 - val_loss: 0.1350\n",
      "Epoch 62/200\n",
      "540/540 [==============================] - 18s 33ms/step - loss: 0.0534 - val_loss: 0.1308\n",
      "Epoch 63/200\n",
      "540/540 [==============================] - 18s 33ms/step - loss: 0.0521 - val_loss: 0.1551\n",
      "Epoch 64/200\n",
      "540/540 [==============================] - 17s 32ms/step - loss: 0.0509 - val_loss: 0.1283\n",
      "Epoch 65/200\n",
      "540/540 [==============================] - 18s 33ms/step - loss: 0.0494 - val_loss: 0.1394\n",
      "Epoch 66/200\n",
      "540/540 [==============================] - 18s 34ms/step - loss: 0.0478 - val_loss: 0.1316\n",
      "Epoch 67/200\n",
      "540/540 [==============================] - 17s 32ms/step - loss: 0.0476 - val_loss: 0.1297\n",
      "Epoch 68/200\n",
      "540/540 [==============================] - 18s 33ms/step - loss: 0.0461 - val_loss: 0.1311\n",
      "Epoch 69/200\n",
      "540/540 [==============================] - 18s 34ms/step - loss: 0.0464 - val_loss: 0.1440\n",
      "Epoch 70/200\n",
      "540/540 [==============================] - 18s 34ms/step - loss: 0.0441 - val_loss: 0.1328\n",
      "Epoch 71/200\n",
      "540/540 [==============================] - 18s 33ms/step - loss: 0.0431 - val_loss: 0.1382\n",
      "Epoch 72/200\n",
      "540/540 [==============================] - 18s 33ms/step - loss: 0.0425 - val_loss: 0.1310\n",
      "Epoch 73/200\n",
      "540/540 [==============================] - 18s 34ms/step - loss: 0.0405 - val_loss: 0.1460\n",
      "Epoch 74/200\n",
      "540/540 [==============================] - 18s 34ms/step - loss: 0.0411 - val_loss: 0.1370\n",
      "Epoch 75/200\n",
      "540/540 [==============================] - 17s 31ms/step - loss: 0.0388 - val_loss: 0.1426\n",
      "Epoch 76/200\n",
      "540/540 [==============================] - 18s 33ms/step - loss: 0.0389 - val_loss: 0.1447\n",
      "Epoch 77/200\n",
      "540/540 [==============================] - 17s 32ms/step - loss: 0.0376 - val_loss: 0.1405\n",
      "Epoch 78/200\n",
      "540/540 [==============================] - 18s 33ms/step - loss: 0.0368 - val_loss: 0.1347\n",
      "Epoch 79/200\n",
      "540/540 [==============================] - 18s 33ms/step - loss: 0.0344 - val_loss: 0.1400\n",
      "Epoch 80/200\n",
      "540/540 [==============================] - 18s 33ms/step - loss: 0.0340 - val_loss: 0.1396\n",
      "Epoch 81/200\n",
      "540/540 [==============================] - 18s 33ms/step - loss: 0.0337 - val_loss: 0.1326\n",
      "Epoch 82/200\n",
      "540/540 [==============================] - 18s 33ms/step - loss: 0.0326 - val_loss: 0.1456\n",
      "Epoch 83/200\n",
      "540/540 [==============================] - 18s 33ms/step - loss: 0.0323 - val_loss: 0.1552\n",
      "Epoch 84/200\n",
      "540/540 [==============================] - 18s 34ms/step - loss: 0.0320 - val_loss: 0.1393\n",
      "Epoch 85/200\n",
      "540/540 [==============================] - 18s 33ms/step - loss: 0.0304 - val_loss: 0.1418\n",
      "Epoch 86/200\n",
      "540/540 [==============================] - 18s 34ms/step - loss: 0.0299 - val_loss: 0.1407\n",
      "Epoch 87/200\n",
      "540/540 [==============================] - 17s 32ms/step - loss: 0.0296 - val_loss: 0.1418\n",
      "Epoch 88/200\n",
      "540/540 [==============================] - 18s 33ms/step - loss: 0.0280 - val_loss: 0.1465\n",
      "Epoch 89/200\n",
      "540/540 [==============================] - 18s 33ms/step - loss: 0.0289 - val_loss: 0.1482\n",
      "Epoch 90/200\n",
      "540/540 [==============================] - 18s 33ms/step - loss: 0.0277 - val_loss: 0.1427\n",
      "Epoch 91/200\n",
      "540/540 [==============================] - 18s 33ms/step - loss: 0.0280 - val_loss: 0.1483\n",
      "Epoch 92/200\n",
      "540/540 [==============================] - 18s 33ms/step - loss: 0.0263 - val_loss: 0.1477\n",
      "Epoch 93/200\n",
      "540/540 [==============================] - 17s 31ms/step - loss: 0.0251 - val_loss: 0.1659\n",
      "Epoch 94/200\n",
      "540/540 [==============================] - 17s 32ms/step - loss: 0.0255 - val_loss: 0.1651\n",
      "Epoch 95/200\n",
      "540/540 [==============================] - 17s 31ms/step - loss: 0.0245 - val_loss: 0.1441\n",
      "Epoch 96/200\n",
      "540/540 [==============================] - 18s 33ms/step - loss: 0.0234 - val_loss: 0.1458\n",
      "Epoch 97/200\n",
      "540/540 [==============================] - 18s 34ms/step - loss: 0.0234 - val_loss: 0.1521\n",
      "Epoch 98/200\n",
      "540/540 [==============================] - 18s 33ms/step - loss: 0.0214 - val_loss: 0.1487\n",
      "Epoch 99/200\n",
      "540/540 [==============================] - 18s 33ms/step - loss: 0.0212 - val_loss: 0.1494\n",
      "Epoch 100/200\n",
      "540/540 [==============================] - 18s 34ms/step - loss: 0.0214 - val_loss: 0.1512\n",
      "Epoch 101/200\n",
      "540/540 [==============================] - 18s 33ms/step - loss: 0.0208 - val_loss: 0.1553\n",
      "Epoch 102/200\n",
      "540/540 [==============================] - 18s 33ms/step - loss: 0.0213 - val_loss: 0.1486\n",
      "Epoch 103/200\n",
      "540/540 [==============================] - 18s 34ms/step - loss: 0.0198 - val_loss: 0.1559\n",
      "Epoch 104/200\n",
      "540/540 [==============================] - 18s 33ms/step - loss: 0.0188 - val_loss: 0.1553\n",
      "Epoch 105/200\n",
      "540/540 [==============================] - 17s 32ms/step - loss: 0.0195 - val_loss: 0.1587\n",
      "Epoch 106/200\n",
      "540/540 [==============================] - 18s 34ms/step - loss: 0.0198 - val_loss: 0.1503\n",
      "Epoch 107/200\n",
      "540/540 [==============================] - 18s 34ms/step - loss: 0.0203 - val_loss: 0.1518\n",
      "Epoch 108/200\n",
      "540/540 [==============================] - 18s 34ms/step - loss: 0.0175 - val_loss: 0.1551\n",
      "Epoch 109/200\n",
      "540/540 [==============================] - 18s 33ms/step - loss: 0.0173 - val_loss: 0.1539\n",
      "Epoch 110/200\n",
      "540/540 [==============================] - 17s 32ms/step - loss: 0.0167 - val_loss: 0.1607\n",
      "Epoch 111/200\n",
      "540/540 [==============================] - 17s 32ms/step - loss: 0.0168 - val_loss: 0.1574\n",
      "Epoch 112/200\n",
      "540/540 [==============================] - 18s 33ms/step - loss: 0.0159 - val_loss: 0.1591\n",
      "Epoch 113/200\n",
      "540/540 [==============================] - 18s 33ms/step - loss: 0.0172 - val_loss: 0.1682\n",
      "Epoch 114/200\n",
      "540/540 [==============================] - 18s 34ms/step - loss: 0.0147 - val_loss: 0.1668\n",
      "Epoch 115/200\n",
      "540/540 [==============================] - 16s 30ms/step - loss: 0.0176 - val_loss: 0.1604\n",
      "Epoch 116/200\n",
      "540/540 [==============================] - 17s 32ms/step - loss: 0.0148 - val_loss: 0.1678\n",
      "Epoch 117/200\n",
      "540/540 [==============================] - 18s 34ms/step - loss: 0.0143 - val_loss: 0.1711\n",
      "Epoch 118/200\n",
      "540/540 [==============================] - 17s 31ms/step - loss: 0.0144 - val_loss: 0.1691\n",
      "Epoch 119/200\n",
      "540/540 [==============================] - 18s 33ms/step - loss: 0.0137 - val_loss: 0.1643\n",
      "Epoch 120/200\n",
      "540/540 [==============================] - 18s 34ms/step - loss: 0.0121 - val_loss: 0.1696\n",
      "Epoch 121/200\n",
      "540/540 [==============================] - 17s 32ms/step - loss: 0.0125 - val_loss: 0.1716\n",
      "Epoch 122/200\n",
      "540/540 [==============================] - 18s 33ms/step - loss: 0.0119 - val_loss: 0.1685\n",
      "Epoch 123/200\n",
      "540/540 [==============================] - 17s 32ms/step - loss: 0.0113 - val_loss: 0.1676\n",
      "Epoch 124/200\n",
      "540/540 [==============================] - 18s 33ms/step - loss: 0.0119 - val_loss: 0.1714\n",
      "Epoch 125/200\n",
      "540/540 [==============================] - 18s 33ms/step - loss: 0.0110 - val_loss: 0.1748\n",
      "Epoch 126/200\n",
      "540/540 [==============================] - 18s 33ms/step - loss: 0.0132 - val_loss: 0.1812\n",
      "Epoch 127/200\n",
      "540/540 [==============================] - 18s 34ms/step - loss: 0.0113 - val_loss: 0.1756\n",
      "Epoch 128/200\n",
      "540/540 [==============================] - 18s 33ms/step - loss: 0.0105 - val_loss: 0.1758\n",
      "Epoch 129/200\n",
      "540/540 [==============================] - 18s 33ms/step - loss: 0.0100 - val_loss: 0.1736\n",
      "Epoch 130/200\n",
      "540/540 [==============================] - 17s 31ms/step - loss: 0.0102 - val_loss: 0.1731\n",
      "Epoch 131/200\n",
      "540/540 [==============================] - 18s 33ms/step - loss: 0.0109 - val_loss: 0.1766\n",
      "Epoch 132/200\n",
      "540/540 [==============================] - 17s 32ms/step - loss: 0.0105 - val_loss: 0.1746\n",
      "Epoch 133/200\n",
      "540/540 [==============================] - 18s 34ms/step - loss: 0.0094 - val_loss: 0.1839\n",
      "Epoch 134/200\n",
      "540/540 [==============================] - 18s 33ms/step - loss: 0.0102 - val_loss: 0.1779\n",
      "Epoch 135/200\n",
      "540/540 [==============================] - 18s 33ms/step - loss: 0.0094 - val_loss: 0.1824\n",
      "Epoch 136/200\n",
      "540/540 [==============================] - 17s 32ms/step - loss: 0.0084 - val_loss: 0.1834\n",
      "Epoch 137/200\n",
      "540/540 [==============================] - 17s 32ms/step - loss: 0.0083 - val_loss: 0.1861\n",
      "Epoch 138/200\n",
      "540/540 [==============================] - 18s 33ms/step - loss: 0.0085 - val_loss: 0.1867\n",
      "Epoch 139/200\n",
      "540/540 [==============================] - 18s 33ms/step - loss: 0.0077 - val_loss: 0.1827\n",
      "Epoch 140/200\n",
      "540/540 [==============================] - 18s 33ms/step - loss: 0.0097 - val_loss: 0.1956\n",
      "Epoch 141/200\n",
      "540/540 [==============================] - 17s 32ms/step - loss: 1.2911 - val_loss: 0.4720\n",
      "Epoch 142/200\n",
      "540/540 [==============================] - 17s 32ms/step - loss: 0.3544 - val_loss: 0.2378\n",
      "Epoch 143/200\n",
      "540/540 [==============================] - 17s 31ms/step - loss: 0.2296 - val_loss: 0.1997\n",
      "Epoch 144/200\n",
      "540/540 [==============================] - 18s 33ms/step - loss: 0.1821 - val_loss: 0.2036\n",
      "Epoch 145/200\n",
      "540/540 [==============================] - 18s 33ms/step - loss: 0.1555 - val_loss: 0.1712\n",
      "Epoch 146/200\n",
      "540/540 [==============================] - 18s 33ms/step - loss: 0.1379 - val_loss: 0.1514\n",
      "Epoch 147/200\n",
      "540/540 [==============================] - 17s 32ms/step - loss: 0.1231 - val_loss: 0.1433\n",
      "Epoch 148/200\n",
      "540/540 [==============================] - 18s 33ms/step - loss: 0.1143 - val_loss: 0.1424\n",
      "Epoch 149/200\n",
      "540/540 [==============================] - 18s 33ms/step - loss: 0.1059 - val_loss: 0.1453\n",
      "Epoch 150/200\n",
      "540/540 [==============================] - 18s 33ms/step - loss: 0.0992 - val_loss: 0.1308\n",
      "Epoch 151/200\n",
      "540/540 [==============================] - 18s 33ms/step - loss: 0.0921 - val_loss: 0.1422\n",
      "Epoch 152/200\n",
      "540/540 [==============================] - 18s 34ms/step - loss: 0.0870 - val_loss: 0.1301\n",
      "Epoch 153/200\n",
      "540/540 [==============================] - 18s 33ms/step - loss: 0.0809 - val_loss: 0.1360\n",
      "Epoch 154/200\n",
      "540/540 [==============================] - 18s 33ms/step - loss: 0.0777 - val_loss: 0.1404\n",
      "Epoch 155/200\n",
      "540/540 [==============================] - 17s 32ms/step - loss: 0.0749 - val_loss: 0.1365\n",
      "Epoch 156/200\n",
      "540/540 [==============================] - 18s 33ms/step - loss: 0.0709 - val_loss: 0.1289\n",
      "Epoch 157/200\n",
      "540/540 [==============================] - 18s 33ms/step - loss: 0.0677 - val_loss: 0.1377\n",
      "Epoch 158/200\n",
      "540/540 [==============================] - 18s 33ms/step - loss: 0.0654 - val_loss: 0.1316\n",
      "Epoch 159/200\n",
      "540/540 [==============================] - 18s 33ms/step - loss: 0.0622 - val_loss: 0.1257\n",
      "Epoch 160/200\n",
      "540/540 [==============================] - 17s 32ms/step - loss: 0.0597 - val_loss: 0.1211\n",
      "Epoch 161/200\n",
      "540/540 [==============================] - 16s 30ms/step - loss: 0.0573 - val_loss: 0.1245\n",
      "Epoch 162/200\n",
      "540/540 [==============================] - 18s 33ms/step - loss: 0.0556 - val_loss: 0.1242\n",
      "Epoch 163/200\n",
      "540/540 [==============================] - 18s 33ms/step - loss: 0.0539 - val_loss: 0.1253\n",
      "Epoch 164/200\n",
      "540/540 [==============================] - 17s 32ms/step - loss: 0.0514 - val_loss: 0.1236\n",
      "Epoch 165/200\n",
      "540/540 [==============================] - 17s 32ms/step - loss: 0.0489 - val_loss: 0.1302\n",
      "Epoch 166/200\n",
      "540/540 [==============================] - 18s 32ms/step - loss: 0.0475 - val_loss: 0.1327\n",
      "Epoch 167/200\n",
      "540/540 [==============================] - 18s 33ms/step - loss: 0.0466 - val_loss: 0.1222\n",
      "Epoch 168/200\n",
      "540/540 [==============================] - 18s 34ms/step - loss: 0.0446 - val_loss: 0.1343\n",
      "Epoch 169/200\n",
      "540/540 [==============================] - 18s 33ms/step - loss: 0.0434 - val_loss: 0.1292\n",
      "Epoch 170/200\n",
      "540/540 [==============================] - 18s 33ms/step - loss: 0.0411 - val_loss: 0.1329\n",
      "Epoch 171/200\n",
      "540/540 [==============================] - 18s 34ms/step - loss: 0.0395 - val_loss: 0.1534\n",
      "Epoch 172/200\n",
      "540/540 [==============================] - 18s 33ms/step - loss: 0.0393 - val_loss: 0.1324\n",
      "Epoch 173/200\n",
      "540/540 [==============================] - 18s 33ms/step - loss: 0.0382 - val_loss: 0.1341\n",
      "Epoch 174/200\n",
      "540/540 [==============================] - 18s 33ms/step - loss: 0.0362 - val_loss: 0.1296\n",
      "Epoch 175/200\n",
      "540/540 [==============================] - 17s 31ms/step - loss: 0.0346 - val_loss: 0.1285\n",
      "Epoch 176/200\n",
      "540/540 [==============================] - 18s 33ms/step - loss: 0.0337 - val_loss: 0.1404\n",
      "Epoch 177/200\n",
      "540/540 [==============================] - 18s 33ms/step - loss: 0.0327 - val_loss: 0.1328\n",
      "Epoch 178/200\n",
      "540/540 [==============================] - 18s 33ms/step - loss: 0.0321 - val_loss: 0.1312\n",
      "Epoch 179/200\n",
      "540/540 [==============================] - 16s 30ms/step - loss: 0.0305 - val_loss: 0.1331\n",
      "Epoch 180/200\n",
      "540/540 [==============================] - 17s 32ms/step - loss: 0.0303 - val_loss: 0.1494\n",
      "Epoch 181/200\n",
      "540/540 [==============================] - 18s 33ms/step - loss: 0.0295 - val_loss: 0.1611\n",
      "Epoch 182/200\n",
      "540/540 [==============================] - 18s 33ms/step - loss: 0.0284 - val_loss: 0.1421\n",
      "Epoch 183/200\n",
      "540/540 [==============================] - 18s 32ms/step - loss: 0.0281 - val_loss: 0.1484\n",
      "Epoch 184/200\n",
      "540/540 [==============================] - 18s 33ms/step - loss: 0.0272 - val_loss: 0.1358\n",
      "Epoch 185/200\n",
      "540/540 [==============================] - 18s 34ms/step - loss: 0.0258 - val_loss: 0.1406\n",
      "Epoch 186/200\n",
      "540/540 [==============================] - 18s 33ms/step - loss: 0.0246 - val_loss: 0.1384\n",
      "Epoch 187/200\n",
      "540/540 [==============================] - 18s 33ms/step - loss: 0.0238 - val_loss: 0.1488\n",
      "Epoch 188/200\n",
      "540/540 [==============================] - 17s 31ms/step - loss: 0.0236 - val_loss: 0.1375\n",
      "Epoch 189/200\n",
      "540/540 [==============================] - 18s 33ms/step - loss: 0.0234 - val_loss: 0.1522\n",
      "Epoch 190/200\n",
      "540/540 [==============================] - 18s 33ms/step - loss: 0.0217 - val_loss: 0.1514\n",
      "Epoch 191/200\n",
      "540/540 [==============================] - 18s 33ms/step - loss: 0.0210 - val_loss: 0.1496\n",
      "Epoch 192/200\n",
      "540/540 [==============================] - 17s 31ms/step - loss: 0.0203 - val_loss: 0.1532\n",
      "Epoch 193/200\n",
      "540/540 [==============================] - 17s 31ms/step - loss: 0.0201 - val_loss: 0.1529\n",
      "Epoch 194/200\n",
      "540/540 [==============================] - 17s 32ms/step - loss: 0.0189 - val_loss: 0.1426\n",
      "Epoch 195/200\n",
      "540/540 [==============================] - 17s 32ms/step - loss: 0.0185 - val_loss: 0.1476\n",
      "Epoch 196/200\n",
      "540/540 [==============================] - 17s 32ms/step - loss: 0.0185 - val_loss: 0.1537\n",
      "Epoch 197/200\n",
      "540/540 [==============================] - 18s 33ms/step - loss: 0.0180 - val_loss: 0.1570\n",
      "Epoch 198/200\n",
      "540/540 [==============================] - 18s 33ms/step - loss: 0.0173 - val_loss: 0.1562\n",
      "Epoch 199/200\n",
      "540/540 [==============================] - 18s 33ms/step - loss: 0.0172 - val_loss: 0.1561\n",
      "Epoch 200/200\n",
      "540/540 [==============================] - 18s 33ms/step - loss: 0.0163 - val_loss: 0.1556\n"
     ]
    },
    {
     "data": {
      "text/plain": [
       "<keras.src.callbacks.History at 0x7ff6a0285720>"
      ]
     },
     "execution_count": 9,
     "metadata": {},
     "output_type": "execute_result"
    }
   ],
   "source": [
    "from keras.layers import Input, Conv2D, Activation, MaxPooling2D, Flatten, Dense, Reshape\n",
    "from keras.models import Model, Sequential\n",
    "from keras.losses import SparseCategoricalCrossentropy\n",
    "from keras.optimizers import SGD\n",
    "\n",
    "\n",
    "# Wanted to challenge myself, wasn't sure if it was ok, so I left it like this in a comment :)\n",
    "'''\n",
    "# Instantiated like so: `ConvBlock(50)` and `ConvBlock(20)`\n",
    "class ConvBlock(keras.layers.Layer):\n",
    "  def __init__(self, units: int):\n",
    "    super().__init__()\n",
    "    self.conv = Conv2D(units, kernel_size=(5, 5), padding=\"valid\")\n",
    "    self.activation_func = Activation(\"relu\")\n",
    "    self.max_pool = MaxPooling2D(pool_size=(2, 2), strides=2)\n",
    "\n",
    "  def call(self, inputs):\n",
    "    x = self.conv(inputs)\n",
    "    x = self.activation_func(x)\n",
    "    x_ = self.max_pool(x)\n",
    "\n",
    "    return x_ \n",
    "'''\n",
    "\n",
    "# Model time! (LeNet)\n",
    "model = Sequential([\n",
    "    Input(shape=(28, 28)),\n",
    "    Reshape(target_shape=(28, 28, 1)),\n",
    "    \n",
    "    # Conv Block 1\n",
    "    Conv2D(50, kernel_size=(5, 5), padding=\"valid\"),\n",
    "    Activation(\"relu\"),\n",
    "    MaxPooling2D(pool_size=(2, 2), strides=2),\n",
    "\n",
    "    # Conv Block 2\n",
    "    Conv2D(20, kernel_size=(5, 5), padding=\"valid\"),\n",
    "    Activation(\"relu\"),\n",
    "    MaxPooling2D(pool_size=(2, 2), strides=2),\n",
    "\n",
    "    # Flatten\n",
    "    Flatten(),\n",
    "\n",
    "    Dense(200, activation=\"relu\"),\n",
    "    Dense(2, activation=\"linear\"),  # \"embedding\" layer for visualization\n",
    "\n",
    "    Dense(10, activation=\"softmax\")  # not logits ;_;\n",
    "])\n",
    "\n",
    "model.compile(loss=SparseCategoricalCrossentropy(), optimizer=SGD(learning_rate=0.01))\n",
    "\n",
    "model.fit(X_train, y_train, batch_size=100, epochs=200, validation_split=0.1)"
   ]
  },
  {
   "cell_type": "code",
   "execution_count": 18,
   "id": "ccbb4887-f2be-4568-bfed-ba02d4f54887",
   "metadata": {
    "execution": {
     "iopub.execute_input": "2024-01-27T10:29:13.264425Z",
     "iopub.status.busy": "2024-01-27T10:29:13.263620Z",
     "iopub.status.idle": "2024-01-27T10:29:13.426680Z",
     "shell.execute_reply": "2024-01-27T10:29:13.425758Z",
     "shell.execute_reply.started": "2024-01-27T10:29:13.264394Z"
    }
   },
   "outputs": [
    {
     "data": {
      "text/plain": [
       "<keras.src.engine.sequential.Sequential at 0x7ff64dc09f90>"
      ]
     },
     "execution_count": 18,
     "metadata": {},
     "output_type": "execute_result"
    }
   ],
   "source": [
    "# Save the model\n",
    "tf.keras.models.load_model(\"lenet.keras\")\n",
    "#model.save(\"lenet.h5\")"
   ]
  },
  {
   "cell_type": "markdown",
   "id": "81a95986-8661-4649-b535-50895e77613b",
   "metadata": {},
   "source": [
    "# Part II: Exploring the Learned Representation"
   ]
  },
  {
   "cell_type": "code",
   "execution_count": 10,
   "id": "8de940dc-7760-4633-8b92-18b7fbfafd30",
   "metadata": {
    "execution": {
     "iopub.execute_input": "2024-01-27T10:20:24.192660Z",
     "iopub.status.busy": "2024-01-27T10:20:24.192393Z",
     "iopub.status.idle": "2024-01-27T10:20:24.220743Z",
     "shell.execute_reply": "2024-01-27T10:20:24.219960Z",
     "shell.execute_reply.started": "2024-01-27T10:20:24.192632Z"
    }
   },
   "outputs": [
    {
     "name": "stdout",
     "output_type": "stream",
     "text": [
      "Model: \"sequential\"\n",
      "_________________________________________________________________\n",
      " Layer (type)                Output Shape              Param #   \n",
      "=================================================================\n",
      " reshape (Reshape)           (None, 28, 28, 1)         0         \n",
      "                                                                 \n",
      " conv2d (Conv2D)             (None, 24, 24, 50)        1300      \n",
      "                                                                 \n",
      " activation (Activation)     (None, 24, 24, 50)        0         \n",
      "                                                                 \n",
      " max_pooling2d (MaxPooling2  (None, 12, 12, 50)        0         \n",
      " D)                                                              \n",
      "                                                                 \n",
      " conv2d_1 (Conv2D)           (None, 8, 8, 20)          25020     \n",
      "                                                                 \n",
      " activation_1 (Activation)   (None, 8, 8, 20)          0         \n",
      "                                                                 \n",
      " max_pooling2d_1 (MaxPoolin  (None, 4, 4, 20)          0         \n",
      " g2D)                                                            \n",
      "                                                                 \n",
      " flatten (Flatten)           (None, 320)               0         \n",
      "                                                                 \n",
      " dense (Dense)               (None, 200)               64200     \n",
      "                                                                 \n",
      " dense_1 (Dense)             (None, 2)                 402       \n",
      "                                                                 \n",
      " dense_2 (Dense)             (None, 10)                30        \n",
      "                                                                 \n",
      "=================================================================\n",
      "Total params: 90952 (355.28 KB)\n",
      "Trainable params: 90952 (355.28 KB)\n",
      "Non-trainable params: 0 (0.00 Byte)\n",
      "_________________________________________________________________\n"
     ]
    }
   ],
   "source": [
    "model.summary()"
   ]
  },
  {
   "cell_type": "code",
   "execution_count": 11,
   "id": "041c6bcf-d285-43c9-9972-687de3311eac",
   "metadata": {
    "execution": {
     "iopub.execute_input": "2024-01-27T10:20:24.222013Z",
     "iopub.status.busy": "2024-01-27T10:20:24.221699Z",
     "iopub.status.idle": "2024-01-27T10:20:24.227732Z",
     "shell.execute_reply": "2024-01-27T10:20:24.226851Z",
     "shell.execute_reply.started": "2024-01-27T10:20:24.221987Z"
    }
   },
   "outputs": [
    {
     "data": {
      "text/plain": [
       "[<keras.src.layers.reshaping.reshape.Reshape at 0x7ff6a0cbbd00>,\n",
       " <keras.src.layers.convolutional.conv2d.Conv2D at 0x7ff6a0451ab0>,\n",
       " <keras.src.layers.core.activation.Activation at 0x7ff6a04525f0>,\n",
       " <keras.src.layers.pooling.max_pooling2d.MaxPooling2D at 0x7ff6a03443d0>,\n",
       " <keras.src.layers.convolutional.conv2d.Conv2D at 0x7ff6a0344700>,\n",
       " <keras.src.layers.core.activation.Activation at 0x7ff6a03447f0>,\n",
       " <keras.src.layers.pooling.max_pooling2d.MaxPooling2D at 0x7ff6a0344e20>,\n",
       " <keras.src.layers.reshaping.flatten.Flatten at 0x7ff6a03450f0>,\n",
       " <keras.src.layers.core.dense.Dense at 0x7ff6a0345390>,\n",
       " <keras.src.layers.core.dense.Dense at 0x7ff6a0345780>,\n",
       " <keras.src.layers.core.dense.Dense at 0x7ff6a0345b40>]"
      ]
     },
     "execution_count": 11,
     "metadata": {},
     "output_type": "execute_result"
    }
   ],
   "source": [
    "model.layers"
   ]
  },
  {
   "cell_type": "markdown",
   "id": "c62fe313-f73b-46b9-9fb4-d708df520f8a",
   "metadata": {},
   "source": [
    "Show (as images) the filter matrices learned in the first layer of the network.  What do they look like?  Alternately, show as images the result of the first layer of filters on some input images.  What does the network seem to be looking for in the input images?  (To access the filter weights, use model.layers[0].weights[0]).  \n",
    "\n",
    "**The network seems to be looking for tiny features like edges which would translate to parts of handwritten digits from the input images.**"
   ]
  },
  {
   "cell_type": "code",
   "execution_count": 12,
   "id": "7baffa1c-2a3f-49c9-85a8-412f0ac697c0",
   "metadata": {
    "execution": {
     "iopub.execute_input": "2024-01-27T10:20:24.229767Z",
     "iopub.status.busy": "2024-01-27T10:20:24.229215Z",
     "iopub.status.idle": "2024-01-27T10:20:25.042795Z",
     "shell.execute_reply": "2024-01-27T10:20:25.042047Z",
     "shell.execute_reply.started": "2024-01-27T10:20:24.229739Z"
    }
   },
   "outputs": [
    {
     "data": {
      "image/png": "[encoded data removed]",
      "text/plain": [
       "<Figure size 1000x700 with 25 Axes>"
      ]
     },
     "metadata": {},
     "output_type": "display_data"
    }
   ],
   "source": [
    "fig = plt.figure(figsize=(10, 7))\n",
    "(rows, cols) = (5, 5)\n",
    "\n",
    "for i in range(rows*cols):\n",
    "  fig.add_subplot(rows, cols, i+1)\n",
    "  plt.imshow(np.reshape(model.layers[1].weights[0], (5, 5, 50))[:, :, i], cmap=\"gray\")\n",
    "  plt.axis('off')"
   ]
  },
  {
   "cell_type": "markdown",
   "id": "77c30d92-2d71-4c54-bc62-e3a718b1ac57",
   "metadata": {},
   "source": [
    "Visualize the embedding learned by the network.  (In other words, make a scatter plot of the 2D embedding vectors produced by the network when given the training images as input.)  What shape does the embedding have?  Why?"
   ]
  },
  {
   "cell_type": "code",
   "execution_count": 13,
   "id": "a95df918-ba33-496f-b307-1214865a8841",
   "metadata": {
    "execution": {
     "iopub.execute_input": "2024-01-27T10:20:25.043957Z",
     "iopub.status.busy": "2024-01-27T10:20:25.043705Z",
     "iopub.status.idle": "2024-01-27T10:20:36.743398Z",
     "shell.execute_reply": "2024-01-27T10:20:36.742254Z",
     "shell.execute_reply.started": "2024-01-27T10:20:25.043929Z"
    }
   },
   "outputs": [
    {
     "name": "stderr",
     "output_type": "stream",
     "text": [
      "2024-01-27 10:20:25.280257: W external/local_tsl/tsl/framework/cpu_allocator_impl.cc:83] Allocation of 6912000000 exceeds 10% of free system memory.\n",
      "2024-01-27 10:20:27.270046: W external/local_tsl/tsl/framework/cpu_allocator_impl.cc:83] Allocation of 6912000000 exceeds 10% of free system memory.\n",
      "2024-01-27 10:20:30.013647: W external/local_tsl/tsl/framework/cpu_allocator_impl.cc:83] Allocation of 6912000000 exceeds 10% of free system memory.\n",
      "2024-01-27 10:20:31.589032: W external/local_tsl/tsl/framework/cpu_allocator_impl.cc:83] Allocation of 1728000000 exceeds 10% of free system memory.\n"
     ]
    },
    {
     "ename": "ValueError",
     "evalue": "x and y must be the same size",
     "output_type": "error",
     "traceback": [
      "\u001b[0;31m---------------------------------------------------------------------------\u001b[0m",
      "\u001b[0;31mValueError\u001b[0m                                Traceback (most recent call last)",
      "Cell \u001b[0;32mIn[13], line 9\u001b[0m\n\u001b[1;32m      4\u001b[0m     x_ \u001b[38;5;241m=\u001b[39m model\u001b[38;5;241m.\u001b[39mlayers[i](x_)\n\u001b[1;32m      6\u001b[0m   \u001b[38;5;28;01mreturn\u001b[39;00m x_\n\u001b[0;32m----> 9\u001b[0m \u001b[43mplt\u001b[49m\u001b[38;5;241;43m.\u001b[39;49m\u001b[43mscatter\u001b[49m\u001b[43m(\u001b[49m\u001b[43mX_train\u001b[49m\u001b[43m[\u001b[49m\u001b[38;5;241;43m0\u001b[39;49m\u001b[43m]\u001b[49m\u001b[43m,\u001b[49m\u001b[43m \u001b[49m\u001b[43mgenerate_embeddings\u001b[49m\u001b[43m(\u001b[49m\u001b[43mX_train\u001b[49m\u001b[43m)\u001b[49m\u001b[43m)\u001b[49m\n",
      "File \u001b[0;32m/opt/conda/lib/python3.10/site-packages/matplotlib/pyplot.py:3684\u001b[0m, in \u001b[0;36mscatter\u001b[0;34m(x, y, s, c, marker, cmap, norm, vmin, vmax, alpha, linewidths, edgecolors, plotnonfinite, data, **kwargs)\u001b[0m\n\u001b[1;32m   3665\u001b[0m \u001b[38;5;129m@_copy_docstring_and_deprecators\u001b[39m(Axes\u001b[38;5;241m.\u001b[39mscatter)\n\u001b[1;32m   3666\u001b[0m \u001b[38;5;28;01mdef\u001b[39;00m \u001b[38;5;21mscatter\u001b[39m(\n\u001b[1;32m   3667\u001b[0m     x: \u001b[38;5;28mfloat\u001b[39m \u001b[38;5;241m|\u001b[39m ArrayLike,\n\u001b[0;32m   (...)\u001b[0m\n\u001b[1;32m   3682\u001b[0m     \u001b[38;5;241m*\u001b[39m\u001b[38;5;241m*\u001b[39mkwargs,\n\u001b[1;32m   3683\u001b[0m ) \u001b[38;5;241m-\u001b[39m\u001b[38;5;241m>\u001b[39m PathCollection:\n\u001b[0;32m-> 3684\u001b[0m     __ret \u001b[38;5;241m=\u001b[39m \u001b[43mgca\u001b[49m\u001b[43m(\u001b[49m\u001b[43m)\u001b[49m\u001b[38;5;241;43m.\u001b[39;49m\u001b[43mscatter\u001b[49m\u001b[43m(\u001b[49m\n\u001b[1;32m   3685\u001b[0m \u001b[43m        \u001b[49m\u001b[43mx\u001b[49m\u001b[43m,\u001b[49m\n\u001b[1;32m   3686\u001b[0m \u001b[43m        \u001b[49m\u001b[43my\u001b[49m\u001b[43m,\u001b[49m\n\u001b[1;32m   3687\u001b[0m \u001b[43m        \u001b[49m\u001b[43ms\u001b[49m\u001b[38;5;241;43m=\u001b[39;49m\u001b[43ms\u001b[49m\u001b[43m,\u001b[49m\n\u001b[1;32m   3688\u001b[0m \u001b[43m        \u001b[49m\u001b[43mc\u001b[49m\u001b[38;5;241;43m=\u001b[39;49m\u001b[43mc\u001b[49m\u001b[43m,\u001b[49m\n\u001b[1;32m   3689\u001b[0m \u001b[43m        \u001b[49m\u001b[43mmarker\u001b[49m\u001b[38;5;241;43m=\u001b[39;49m\u001b[43mmarker\u001b[49m\u001b[43m,\u001b[49m\n\u001b[1;32m   3690\u001b[0m \u001b[43m        \u001b[49m\u001b[43mcmap\u001b[49m\u001b[38;5;241;43m=\u001b[39;49m\u001b[43mcmap\u001b[49m\u001b[43m,\u001b[49m\n\u001b[1;32m   3691\u001b[0m \u001b[43m        \u001b[49m\u001b[43mnorm\u001b[49m\u001b[38;5;241;43m=\u001b[39;49m\u001b[43mnorm\u001b[49m\u001b[43m,\u001b[49m\n\u001b[1;32m   3692\u001b[0m \u001b[43m        \u001b[49m\u001b[43mvmin\u001b[49m\u001b[38;5;241;43m=\u001b[39;49m\u001b[43mvmin\u001b[49m\u001b[43m,\u001b[49m\n\u001b[1;32m   3693\u001b[0m \u001b[43m        \u001b[49m\u001b[43mvmax\u001b[49m\u001b[38;5;241;43m=\u001b[39;49m\u001b[43mvmax\u001b[49m\u001b[43m,\u001b[49m\n\u001b[1;32m   3694\u001b[0m \u001b[43m        \u001b[49m\u001b[43malpha\u001b[49m\u001b[38;5;241;43m=\u001b[39;49m\u001b[43malpha\u001b[49m\u001b[43m,\u001b[49m\n\u001b[1;32m   3695\u001b[0m \u001b[43m        \u001b[49m\u001b[43mlinewidths\u001b[49m\u001b[38;5;241;43m=\u001b[39;49m\u001b[43mlinewidths\u001b[49m\u001b[43m,\u001b[49m\n\u001b[1;32m   3696\u001b[0m \u001b[43m        \u001b[49m\u001b[43medgecolors\u001b[49m\u001b[38;5;241;43m=\u001b[39;49m\u001b[43medgecolors\u001b[49m\u001b[43m,\u001b[49m\n\u001b[1;32m   3697\u001b[0m \u001b[43m        \u001b[49m\u001b[43mplotnonfinite\u001b[49m\u001b[38;5;241;43m=\u001b[39;49m\u001b[43mplotnonfinite\u001b[49m\u001b[43m,\u001b[49m\n\u001b[1;32m   3698\u001b[0m \u001b[43m        \u001b[49m\u001b[38;5;241;43m*\u001b[39;49m\u001b[38;5;241;43m*\u001b[39;49m\u001b[43m(\u001b[49m\u001b[43m{\u001b[49m\u001b[38;5;124;43m\"\u001b[39;49m\u001b[38;5;124;43mdata\u001b[39;49m\u001b[38;5;124;43m\"\u001b[39;49m\u001b[43m:\u001b[49m\u001b[43m \u001b[49m\u001b[43mdata\u001b[49m\u001b[43m}\u001b[49m\u001b[43m \u001b[49m\u001b[38;5;28;43;01mif\u001b[39;49;00m\u001b[43m \u001b[49m\u001b[43mdata\u001b[49m\u001b[43m \u001b[49m\u001b[38;5;129;43;01mis\u001b[39;49;00m\u001b[43m \u001b[49m\u001b[38;5;129;43;01mnot\u001b[39;49;00m\u001b[43m \u001b[49m\u001b[38;5;28;43;01mNone\u001b[39;49;00m\u001b[43m \u001b[49m\u001b[38;5;28;43;01melse\u001b[39;49;00m\u001b[43m \u001b[49m\u001b[43m{\u001b[49m\u001b[43m}\u001b[49m\u001b[43m)\u001b[49m\u001b[43m,\u001b[49m\n\u001b[1;32m   3699\u001b[0m \u001b[43m        \u001b[49m\u001b[38;5;241;43m*\u001b[39;49m\u001b[38;5;241;43m*\u001b[39;49m\u001b[43mkwargs\u001b[49m\u001b[43m,\u001b[49m\n\u001b[1;32m   3700\u001b[0m \u001b[43m    \u001b[49m\u001b[43m)\u001b[49m\n\u001b[1;32m   3701\u001b[0m     sci(__ret)\n\u001b[1;32m   3702\u001b[0m     \u001b[38;5;28;01mreturn\u001b[39;00m __ret\n",
      "File \u001b[0;32m/opt/conda/lib/python3.10/site-packages/matplotlib/__init__.py:1465\u001b[0m, in \u001b[0;36m_preprocess_data.<locals>.inner\u001b[0;34m(ax, data, *args, **kwargs)\u001b[0m\n\u001b[1;32m   1462\u001b[0m \u001b[38;5;129m@functools\u001b[39m\u001b[38;5;241m.\u001b[39mwraps(func)\n\u001b[1;32m   1463\u001b[0m \u001b[38;5;28;01mdef\u001b[39;00m \u001b[38;5;21minner\u001b[39m(ax, \u001b[38;5;241m*\u001b[39margs, data\u001b[38;5;241m=\u001b[39m\u001b[38;5;28;01mNone\u001b[39;00m, \u001b[38;5;241m*\u001b[39m\u001b[38;5;241m*\u001b[39mkwargs):\n\u001b[1;32m   1464\u001b[0m     \u001b[38;5;28;01mif\u001b[39;00m data \u001b[38;5;129;01mis\u001b[39;00m \u001b[38;5;28;01mNone\u001b[39;00m:\n\u001b[0;32m-> 1465\u001b[0m         \u001b[38;5;28;01mreturn\u001b[39;00m \u001b[43mfunc\u001b[49m\u001b[43m(\u001b[49m\u001b[43max\u001b[49m\u001b[43m,\u001b[49m\u001b[43m \u001b[49m\u001b[38;5;241;43m*\u001b[39;49m\u001b[38;5;28;43mmap\u001b[39;49m\u001b[43m(\u001b[49m\u001b[43msanitize_sequence\u001b[49m\u001b[43m,\u001b[49m\u001b[43m \u001b[49m\u001b[43margs\u001b[49m\u001b[43m)\u001b[49m\u001b[43m,\u001b[49m\u001b[43m \u001b[49m\u001b[38;5;241;43m*\u001b[39;49m\u001b[38;5;241;43m*\u001b[39;49m\u001b[43mkwargs\u001b[49m\u001b[43m)\u001b[49m\n\u001b[1;32m   1467\u001b[0m     bound \u001b[38;5;241m=\u001b[39m new_sig\u001b[38;5;241m.\u001b[39mbind(ax, \u001b[38;5;241m*\u001b[39margs, \u001b[38;5;241m*\u001b[39m\u001b[38;5;241m*\u001b[39mkwargs)\n\u001b[1;32m   1468\u001b[0m     auto_label \u001b[38;5;241m=\u001b[39m (bound\u001b[38;5;241m.\u001b[39marguments\u001b[38;5;241m.\u001b[39mget(label_namer)\n\u001b[1;32m   1469\u001b[0m                   \u001b[38;5;129;01mor\u001b[39;00m bound\u001b[38;5;241m.\u001b[39mkwargs\u001b[38;5;241m.\u001b[39mget(label_namer))\n",
      "File \u001b[0;32m/opt/conda/lib/python3.10/site-packages/matplotlib/axes/_axes.py:4652\u001b[0m, in \u001b[0;36mAxes.scatter\u001b[0;34m(self, x, y, s, c, marker, cmap, norm, vmin, vmax, alpha, linewidths, edgecolors, plotnonfinite, **kwargs)\u001b[0m\n\u001b[1;32m   4650\u001b[0m y \u001b[38;5;241m=\u001b[39m np\u001b[38;5;241m.\u001b[39mma\u001b[38;5;241m.\u001b[39mravel(y)\n\u001b[1;32m   4651\u001b[0m \u001b[38;5;28;01mif\u001b[39;00m x\u001b[38;5;241m.\u001b[39msize \u001b[38;5;241m!=\u001b[39m y\u001b[38;5;241m.\u001b[39msize:\n\u001b[0;32m-> 4652\u001b[0m     \u001b[38;5;28;01mraise\u001b[39;00m \u001b[38;5;167;01mValueError\u001b[39;00m(\u001b[38;5;124m\"\u001b[39m\u001b[38;5;124mx and y must be the same size\u001b[39m\u001b[38;5;124m\"\u001b[39m)\n\u001b[1;32m   4654\u001b[0m \u001b[38;5;28;01mif\u001b[39;00m s \u001b[38;5;129;01mis\u001b[39;00m \u001b[38;5;28;01mNone\u001b[39;00m:\n\u001b[1;32m   4655\u001b[0m     s \u001b[38;5;241m=\u001b[39m (\u001b[38;5;241m20\u001b[39m \u001b[38;5;28;01mif\u001b[39;00m mpl\u001b[38;5;241m.\u001b[39mrcParams[\u001b[38;5;124m'\u001b[39m\u001b[38;5;124m_internal.classic_mode\u001b[39m\u001b[38;5;124m'\u001b[39m] \u001b[38;5;28;01melse\u001b[39;00m\n\u001b[1;32m   4656\u001b[0m          mpl\u001b[38;5;241m.\u001b[39mrcParams[\u001b[38;5;124m'\u001b[39m\u001b[38;5;124mlines.markersize\u001b[39m\u001b[38;5;124m'\u001b[39m] \u001b[38;5;241m*\u001b[39m\u001b[38;5;241m*\u001b[39m \u001b[38;5;241m2.0\u001b[39m)\n",
      "\u001b[0;31mValueError\u001b[0m: x and y must be the same size"
     ]
    },
    {
     "data": {
      "image/png": "[encoded data removed]",
      "text/plain": [
       "<Figure size 640x480 with 1 Axes>"
      ]
     },
     "metadata": {},
     "output_type": "display_data"
    }
   ],
   "source": [
    "def generate_embeddings(x):\n",
    "  x_ = x\n",
    "  for i in range(len(model.layers) - 1):\n",
    "    x_ = model.layers[i](x_)\n",
    "  \n",
    "  return x_\n",
    "\n",
    "\n",
    "plt.scatter(X_train[0], generate_embeddings(X_train))"
   ]
  },
  {
   "cell_type": "markdown",
   "id": "d7f6c4e5-b98e-4c80-b7ce-1d1bfbfa0c34",
   "metadata": {},
   "source": [
    "Take an example of each digit and rotate it in 15 degree increments (scipy.ndimage.rotate).  Run the classifier on each rotated image and see what happens to their class probabilities.  We would assume that an upside down 6 will be classified as a 9.  But what happens in between?  What does an upside down 2 get classified as?"
   ]
  },
  {
   "cell_type": "code",
   "execution_count": null,
   "id": "e23e3d55-d9a0-41d1-9c7a-aef370f62553",
   "metadata": {
    "execution": {
     "iopub.status.busy": "2024-01-27T10:20:36.744352Z",
     "iopub.status.idle": "2024-01-27T10:20:36.744678Z",
     "shell.execute_reply": "2024-01-27T10:20:36.744532Z",
     "shell.execute_reply.started": "2024-01-27T10:20:36.744516Z"
    }
   },
   "outputs": [],
   "source": [
    "import scipy\n",
    "from scipy import ndimage\n",
    "\n",
    "\n",
    "# 15 * 24 = 360\n",
    "# shape: (10, 24, 15, 28, 28)\n",
    "# each index points to an index of the training set that is said index as the label\n",
    "indices = [list(y_train).index(i) for i in range(10)]\n",
    "\n",
    "fig = plt.figure(figsize=(10, 7))\n",
    "(rows, cols) = (10, 24)\n",
    "\n",
    "# start @ -1 to cover base case\n",
    "n = -1\n",
    "for i in range(rows*cols):\n",
    "  j = i % 24\n",
    "\n",
    "  # every 24 rotations, new n\n",
    "  if j == 0:\n",
    "    n = n + 1\n",
    "  \n",
    "  digit_index = indices[j]\n",
    "\n",
    "  rotated_image = ndimage.rotate(y_train[digit_index], j * 15)\n",
    "  fig.add_subplot(rows, cols, i+1)\n",
    "  plt.imshow(np.reshape(model.layers[1].weights[0], (5, 5, 50))[:, :, i], cmap=\"gray\")\n",
    "  plt.axis('off')\n",
    "  plt.title(model.predict(rotated_image))\n",
    "\n",
    "  # Every 24 rotations, \n",
    "  if (i + 1) % 24 == 0:\n",
    "    n = n + 1"
   ]
  },
  {
   "cell_type": "markdown",
   "id": "8151d651-84b7-41f1-b879-0d8f18f81e38",
   "metadata": {},
   "source": [
    "How could you make a neural network that is invariant to rotation?  You don't need to implement this, just give one or two ideas for how you could do it.\n",
    "\n",
    "**Data Augmentation - train the network with rotated versions of the image so that it learns to classify images in a way that is invariant to rotation.**"
   ]
  },
  {
   "cell_type": "code",
   "execution_count": 19,
   "id": "33a03acf-65b2-4f86-bbb7-6e051956b2b1",
   "metadata": {
    "execution": {
     "iopub.execute_input": "2024-01-27T10:31:28.196765Z",
     "iopub.status.busy": "2024-01-27T10:31:28.196380Z",
     "iopub.status.idle": "2024-01-27T10:31:28.689152Z",
     "shell.execute_reply": "2024-01-27T10:31:28.687867Z",
     "shell.execute_reply.started": "2024-01-27T10:31:28.196735Z"
    }
   },
   "outputs": [
    {
     "name": "stdout",
     "output_type": "stream",
     "text": [
      "MNIST.ipynb  lenet.h5  lenet.keras\n"
     ]
    }
   ],
   "source": [
    "!ls"
   ]
  },
  {
   "cell_type": "code",
   "execution_count": null,
   "id": "336966dd-a582-45ed-9f5d-f146617e85c9",
   "metadata": {},
   "outputs": [],
   "source": []
  }
 ],
 "metadata": {
  "kernelspec": {
   "display_name": "Python 3 (ipykernel)",
   "language": "python",
   "name": "python3"
  },
  "language_info": {
   "codemirror_mode": {
    "name": "ipython",
    "version": 3
   },
   "file_extension": ".py",
   "mimetype": "text/x-python",
   "name": "python",
   "nbconvert_exporter": "python",
   "pygments_lexer": "ipython3",
   "version": "3.10.13"
  }
 },
 "nbformat": 4,
 "nbformat_minor": 5
}
